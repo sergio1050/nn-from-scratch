{
  "nbformat": 4,
  "nbformat_minor": 0,
  "metadata": {
    "colab": {
      "provenance": []
    },
    "kernelspec": {
      "name": "python3",
      "display_name": "Python 3"
    },
    "language_info": {
      "name": "python"
    }
  },
  "cells": [
    {
      "cell_type": "code",
      "execution_count": 2,
      "metadata": {
        "id": "irp5ZOqL_mlK"
      },
      "outputs": [],
      "source": [
        "import numpy as np\n",
        "import pandas as pd\n",
        "from matplotlib import pyplot as plt\n",
        "\n",
        "data = pd.read_csv('/content/train.csv')"
      ]
    },
    {
      "cell_type": "code",
      "source": [
        "data = np.array(data)\n",
        "m, n = data.shape\n",
        "np.random.shuffle(data) # shuffle before splitting into dev and training sets\n",
        "\n",
        "data_dev = data[0:1000].T\n",
        "Y_dev = data_dev[0]\n",
        "X_dev = data_dev[1:n]\n",
        "X_dev = X_dev / 255.\n",
        "\n",
        "data_train = data[1000:m].T\n",
        "Y_train = data_train[0]\n",
        "X_train = data_train[1:n]\n",
        "X_train = X_train / 255.\n",
        "_,m_train = X_train.shape"
      ],
      "metadata": {
        "id": "kaUeTTRTBmow"
      },
      "execution_count": 3,
      "outputs": []
    },
    {
      "cell_type": "code",
      "source": [
        "def init_params():\n",
        "    W1 = np.random.rand(10, 784) - 0.5\n",
        "    b1 = np.random.rand(10, 1) - 0.5\n",
        "    W2 = np.random.rand(10, 10) - 0.5\n",
        "    b2 = np.random.rand(10, 1) - 0.5\n",
        "    return W1, b1, W2, b2\n",
        "\n",
        "def ReLU(Z):\n",
        "    return np.maximum(Z, 0)\n",
        "\n",
        "def softmax(Z):\n",
        "    A = np.exp(Z) / sum(np.exp(Z))\n",
        "    return A\n",
        "\n",
        "def forward_prop(W1, b1, W2, b2, X):\n",
        "    Z1 = W1.dot(X) + b1\n",
        "    A1 = ReLU(Z1)\n",
        "    Z2 = W2.dot(A1) + b2\n",
        "    A2 = softmax(Z2)\n",
        "    return Z1, A1, Z2, A2\n",
        "\n",
        "def ReLU_deriv(Z):\n",
        "    return Z > 0\n",
        "\n",
        "def one_hot(Y):\n",
        "    one_hot_Y = np.zeros((Y.size, Y.max() + 1))\n",
        "    one_hot_Y[np.arange(Y.size), Y] = 1\n",
        "    one_hot_Y = one_hot_Y.T\n",
        "    return one_hot_Y\n",
        "\n",
        "def backward_prop(Z1, A1, Z2, A2, W1, W2, X, Y):\n",
        "    one_hot_Y = one_hot(Y)\n",
        "    dZ2 = A2 - one_hot_Y\n",
        "    dW2 = 1 / m * dZ2.dot(A1.T)\n",
        "    db2 = 1 / m * np.sum(dZ2)\n",
        "    dZ1 = W2.T.dot(dZ2) * ReLU_deriv(Z1)\n",
        "    dW1 = 1 / m * dZ1.dot(X.T)\n",
        "    db1 = 1 / m * np.sum(dZ1)\n",
        "    return dW1, db1, dW2, db2\n",
        "\n",
        "def update_params(W1, b1, W2, b2, dW1, db1, dW2, db2, alpha):\n",
        "    W1 = W1 - alpha * dW1\n",
        "    b1 = b1 - alpha * db1\n",
        "    W2 = W2 - alpha * dW2\n",
        "    b2 = b2 - alpha * db2\n",
        "    return W1, b1, W2, b2"
      ],
      "metadata": {
        "id": "9JQ6oHk0DAWI"
      },
      "execution_count": 4,
      "outputs": []
    },
    {
      "cell_type": "code",
      "source": [
        "def get_predictions(A2):\n",
        "    return np.argmax(A2, 0)\n",
        "\n",
        "def get_accuracy(predictions, Y):\n",
        "    print(predictions, Y)\n",
        "    return np.sum(predictions == Y) / Y.size\n",
        "\n",
        "def gradient_descent(X, Y, alpha, iterations):\n",
        "    W1, b1, W2, b2 = init_params()\n",
        "    for i in range(iterations):\n",
        "        Z1, A1, Z2, A2 = forward_prop(W1, b1, W2, b2, X)\n",
        "        dW1, db1, dW2, db2 = backward_prop(Z1, A1, Z2, A2, W1, W2, X, Y)\n",
        "        W1, b1, W2, b2 = update_params(W1, b1, W2, b2, dW1, db1, dW2, db2, alpha)\n",
        "        if i % 10 == 0:\n",
        "            print(\"Iteration: \", i)\n",
        "            predictions = get_predictions(A2)\n",
        "            print(get_accuracy(predictions, Y))\n",
        "    return W1, b1, W2, b2"
      ],
      "metadata": {
        "id": "v1UBu7oqDh6y"
      },
      "execution_count": 11,
      "outputs": []
    },
    {
      "cell_type": "code",
      "source": [
        "W1, b1, W2, b2 = gradient_descent(X_train, Y_train, 0.10, 500)"
      ],
      "metadata": {
        "colab": {
          "base_uri": "https://localhost:8080/"
        },
        "id": "dT-Hi0lGDltN",
        "outputId": "ca319e03-47e5-4032-d5de-b38baea87e24"
      },
      "execution_count": 12,
      "outputs": [
        {
          "output_type": "stream",
          "name": "stdout",
          "text": [
            "Iteration:  0\n",
            "[2 6 0 ... 3 6 6] [5 6 3 ... 6 9 2]\n",
            "0.10939024390243902\n",
            "Iteration:  10\n",
            "[0 6 0 ... 6 6 7] [5 6 3 ... 6 9 2]\n",
            "0.18878048780487805\n",
            "Iteration:  20\n",
            "[0 6 0 ... 6 6 7] [5 6 3 ... 6 9 2]\n",
            "0.2748536585365854\n",
            "Iteration:  30\n",
            "[0 6 8 ... 6 6 7] [5 6 3 ... 6 9 2]\n",
            "0.3488780487804878\n",
            "Iteration:  40\n",
            "[0 6 8 ... 6 8 7] [5 6 3 ... 6 9 2]\n",
            "0.4086341463414634\n",
            "Iteration:  50\n",
            "[0 6 8 ... 6 8 7] [5 6 3 ... 6 9 2]\n",
            "0.46431707317073173\n",
            "Iteration:  60\n",
            "[0 6 8 ... 6 8 7] [5 6 3 ... 6 9 2]\n",
            "0.5343414634146342\n",
            "Iteration:  70\n",
            "[0 6 8 ... 6 8 7] [5 6 3 ... 6 9 2]\n",
            "0.5872439024390244\n",
            "Iteration:  80\n",
            "[0 6 8 ... 6 8 7] [5 6 3 ... 6 9 2]\n",
            "0.6230975609756098\n",
            "Iteration:  90\n",
            "[0 6 8 ... 6 8 7] [5 6 3 ... 6 9 2]\n",
            "0.6508536585365854\n",
            "Iteration:  100\n",
            "[0 6 8 ... 6 8 7] [5 6 3 ... 6 9 2]\n",
            "0.6738536585365854\n",
            "Iteration:  110\n",
            "[0 6 8 ... 6 8 7] [5 6 3 ... 6 9 2]\n",
            "0.6912195121951219\n",
            "Iteration:  120\n",
            "[0 6 8 ... 6 8 7] [5 6 3 ... 6 9 2]\n",
            "0.7072439024390244\n",
            "Iteration:  130\n",
            "[0 6 8 ... 6 8 7] [5 6 3 ... 6 9 2]\n",
            "0.7193658536585366\n",
            "Iteration:  140\n",
            "[0 6 8 ... 6 8 7] [5 6 3 ... 6 9 2]\n",
            "0.7302195121951219\n",
            "Iteration:  150\n",
            "[0 6 8 ... 6 8 7] [5 6 3 ... 6 9 2]\n",
            "0.7391951219512195\n",
            "Iteration:  160\n",
            "[0 6 8 ... 6 8 7] [5 6 3 ... 6 9 2]\n",
            "0.7484878048780488\n",
            "Iteration:  170\n",
            "[0 6 8 ... 6 8 7] [5 6 3 ... 6 9 2]\n",
            "0.756219512195122\n",
            "Iteration:  180\n",
            "[0 6 8 ... 6 8 7] [5 6 3 ... 6 9 2]\n",
            "0.7622439024390244\n",
            "Iteration:  190\n",
            "[0 6 8 ... 6 8 7] [5 6 3 ... 6 9 2]\n",
            "0.7680731707317073\n",
            "Iteration:  200\n",
            "[0 6 8 ... 6 8 7] [5 6 3 ... 6 9 2]\n",
            "0.7744634146341464\n",
            "Iteration:  210\n",
            "[0 6 8 ... 6 8 7] [5 6 3 ... 6 9 2]\n",
            "0.7795365853658537\n",
            "Iteration:  220\n",
            "[0 6 8 ... 6 8 7] [5 6 3 ... 6 9 2]\n",
            "0.7835853658536586\n",
            "Iteration:  230\n",
            "[0 6 8 ... 6 8 7] [5 6 3 ... 6 9 2]\n",
            "0.7882439024390244\n",
            "Iteration:  240\n",
            "[0 6 8 ... 6 8 7] [5 6 3 ... 6 9 2]\n",
            "0.7921951219512195\n",
            "Iteration:  250\n",
            "[0 6 8 ... 6 8 7] [5 6 3 ... 6 9 2]\n",
            "0.7960487804878049\n",
            "Iteration:  260\n",
            "[0 6 8 ... 6 8 7] [5 6 3 ... 6 9 2]\n",
            "0.7999268292682927\n",
            "Iteration:  270\n",
            "[0 6 8 ... 6 8 7] [5 6 3 ... 6 9 2]\n",
            "0.8028536585365854\n",
            "Iteration:  280\n",
            "[0 6 8 ... 6 8 7] [5 6 3 ... 6 9 2]\n",
            "0.8062682926829269\n",
            "Iteration:  290\n",
            "[5 6 8 ... 6 8 7] [5 6 3 ... 6 9 2]\n",
            "0.8089024390243903\n",
            "Iteration:  300\n",
            "[5 6 8 ... 6 8 7] [5 6 3 ... 6 9 2]\n",
            "0.8115365853658537\n",
            "Iteration:  310\n",
            "[5 6 8 ... 6 8 7] [5 6 3 ... 6 9 2]\n",
            "0.8140975609756097\n",
            "Iteration:  320\n",
            "[5 6 8 ... 6 8 7] [5 6 3 ... 6 9 2]\n",
            "0.8162682926829268\n",
            "Iteration:  330\n",
            "[5 6 8 ... 6 8 7] [5 6 3 ... 6 9 2]\n",
            "0.8181463414634146\n",
            "Iteration:  340\n",
            "[5 6 8 ... 6 8 7] [5 6 3 ... 6 9 2]\n",
            "0.8199024390243902\n",
            "Iteration:  350\n",
            "[5 6 8 ... 6 8 7] [5 6 3 ... 6 9 2]\n",
            "0.8219756097560975\n",
            "Iteration:  360\n",
            "[5 6 8 ... 6 8 7] [5 6 3 ... 6 9 2]\n",
            "0.8242195121951219\n",
            "Iteration:  370\n",
            "[5 6 8 ... 6 8 7] [5 6 3 ... 6 9 2]\n",
            "0.8260243902439024\n",
            "Iteration:  380\n",
            "[5 6 8 ... 6 8 7] [5 6 3 ... 6 9 2]\n",
            "0.8280243902439024\n",
            "Iteration:  390\n",
            "[5 6 8 ... 6 8 7] [5 6 3 ... 6 9 2]\n",
            "0.83\n",
            "Iteration:  400\n",
            "[5 6 8 ... 6 8 7] [5 6 3 ... 6 9 2]\n",
            "0.8317073170731707\n",
            "Iteration:  410\n",
            "[5 6 8 ... 6 8 7] [5 6 3 ... 6 9 2]\n",
            "0.8337560975609756\n",
            "Iteration:  420\n",
            "[5 6 8 ... 6 8 7] [5 6 3 ... 6 9 2]\n",
            "0.8351951219512195\n",
            "Iteration:  430\n",
            "[5 6 8 ... 6 8 7] [5 6 3 ... 6 9 2]\n",
            "0.8372195121951219\n",
            "Iteration:  440\n",
            "[5 6 8 ... 6 8 7] [5 6 3 ... 6 9 2]\n",
            "0.8390731707317073\n",
            "Iteration:  450\n",
            "[5 6 8 ... 6 8 7] [5 6 3 ... 6 9 2]\n",
            "0.8402439024390244\n",
            "Iteration:  460\n",
            "[5 6 8 ... 6 8 7] [5 6 3 ... 6 9 2]\n",
            "0.8414878048780488\n",
            "Iteration:  470\n",
            "[5 6 8 ... 6 8 7] [5 6 3 ... 6 9 2]\n",
            "0.842780487804878\n",
            "Iteration:  480\n",
            "[5 6 8 ... 6 8 7] [5 6 3 ... 6 9 2]\n",
            "0.8442682926829268\n",
            "Iteration:  490\n",
            "[5 6 8 ... 6 8 7] [5 6 3 ... 6 9 2]\n",
            "0.8455853658536585\n"
          ]
        }
      ]
    },
    {
      "cell_type": "code",
      "source": [
        "def make_predictions(X, W1, b1, W2, b2):\n",
        "    _, _, _, A2 = forward_prop(W1, b1, W2, b2, X)\n",
        "    predictions = get_predictions(A2)\n",
        "    return predictions\n",
        "\n",
        "def test_prediction(index, W1, b1, W2, b2):\n",
        "    current_image = X_train[:, index, None]\n",
        "    prediction = make_predictions(X_train[:, index, None], W1, b1, W2, b2)\n",
        "    label = Y_train[index]\n",
        "    print(\"Prediction: \", prediction)\n",
        "    print(\"Label: \", label)\n",
        "\n",
        "    current_image = current_image.reshape((28, 28)) * 255\n",
        "    plt.gray()\n",
        "    plt.imshow(current_image, interpolation='nearest')\n",
        "    plt.show()"
      ],
      "metadata": {
        "id": "fImMT8sDHK40"
      },
      "execution_count": 13,
      "outputs": []
    },
    {
      "cell_type": "code",
      "source": [
        "test_prediction(0, W1, b1, W2, b2)\n",
        "test_prediction(1, W1, b1, W2, b2)\n",
        "test_prediction(2, W1, b1, W2, b2)\n",
        "test_prediction(3, W1, b1, W2, b2)"
      ],
      "metadata": {
        "colab": {
          "base_uri": "https://localhost:8080/",
          "height": 1000
        },
        "id": "xDmokyltHO7b",
        "outputId": "a53b1e5c-709e-49de-ab62-bad8d23d3da9"
      },
      "execution_count": 14,
      "outputs": [
        {
          "output_type": "stream",
          "name": "stdout",
          "text": [
            "Prediction:  [5]\n",
            "Label:  5\n"
          ]
        },
        {
          "output_type": "display_data",
          "data": {
            "text/plain": [
              "<Figure size 640x480 with 1 Axes>"
            ],
            "image/png": "[encoded data removed]"
          },
          "metadata": {}
        },
        {
          "output_type": "stream",
          "name": "stdout",
          "text": [
            "Prediction:  [6]\n",
            "Label:  6\n"
          ]
        },
        {
          "output_type": "display_data",
          "data": {
            "text/plain": [
              "<Figure size 640x480 with 1 Axes>"
            ],
            "image/png": "[encoded data removed]"
          },
          "metadata": {}
        },
        {
          "output_type": "stream",
          "name": "stdout",
          "text": [
            "Prediction:  [8]\n",
            "Label:  3\n"
          ]
        },
        {
          "output_type": "display_data",
          "data": {
            "text/plain": [
              "<Figure size 640x480 with 1 Axes>"
            ],
            "image/png": "[encoded data removed]"
          },
          "metadata": {}
        },
        {
          "output_type": "stream",
          "name": "stdout",
          "text": [
            "Prediction:  [6]\n",
            "Label:  6\n"
          ]
        },
        {
          "output_type": "display_data",
          "data": {
            "text/plain": [
              "<Figure size 640x480 with 1 Axes>"
            ],
            "image/png": "[encoded data removed]"
          },
          "metadata": {}
        }
      ]
    },
    {
      "cell_type": "code",
      "source": [
        "dev_predictions = make_predictions(X_dev, W1, b1, W2, b2)\n",
        "get_accuracy(dev_predictions, Y_dev)"
      ],
      "metadata": {
        "colab": {
          "base_uri": "https://localhost:8080/"
        },
        "id": "DJUj1BD4HXXR",
        "outputId": "c33856b6-3e66-4dc2-c907-4aee1559a683"
      },
      "execution_count": 15,
      "outputs": [
        {
          "output_type": "stream",
          "name": "stdout",
          "text": [
            "[1 8 3 4 5 8 4 7 6 3 9 4 8 6 0 4 0 5 7 3 5 5 0 7 5 1 7 8 9 6 4 7 5 1 4 2 3\n",
            " 3 5 3 7 6 4 6 3 2 5 2 4 0 4 8 8 3 1 6 7 6 6 1 6 8 4 9 5 6 8 4 1 9 7 2 8 4\n",
            " 9 4 3 6 4 7 5 6 6 7 8 4 3 3 3 6 9 9 3 4 0 7 2 7 2 0 0 2 3 8 5 2 2 6 5 6 4\n",
            " 9 0 7 9 0 9 3 7 1 2 7 9 0 0 4 5 1 7 7 9 4 4 5 6 9 6 4 7 7 4 6 5 0 1 2 3 7\n",
            " 8 2 9 8 2 8 6 5 0 9 5 9 8 3 4 7 7 3 2 2 9 8 2 2 1 7 0 3 6 9 8 0 7 3 6 2 7\n",
            " 0 0 6 9 1 0 5 7 2 9 0 4 9 7 3 3 9 3 4 1 3 2 0 1 2 2 4 9 4 0 5 2 4 6 6 9 7\n",
            " 8 7 9 1 8 8 6 9 1 7 4 4 0 7 3 9 3 5 5 2 6 7 6 0 5 1 9 7 8 2 6 3 9 8 6 5 7\n",
            " 5 7 4 3 8 4 8 2 6 6 0 6 8 9 3 7 2 1 4 8 5 6 7 7 4 2 6 4 6 0 9 7 6 1 1 1 0\n",
            " 1 0 6 8 4 3 0 0 1 2 8 2 3 1 3 0 2 9 7 1 8 9 4 6 1 8 0 6 6 0 9 5 3 8 0 5 4\n",
            " 0 2 0 9 3 4 0 9 7 8 6 0 5 7 3 4 3 8 0 3 8 7 3 8 4 2 1 7 9 6 5 1 0 1 4 0 4\n",
            " 0 4 8 2 4 4 3 7 5 1 5 9 7 0 4 2 1 8 5 0 4 6 8 6 8 3 6 7 0 0 2 9 8 4 4 7 9\n",
            " 9 5 4 5 8 7 0 1 1 5 0 0 5 2 2 8 6 5 9 7 6 2 6 1 1 2 9 4 2 0 7 5 2 4 9 0 6\n",
            " 3 5 2 3 4 4 8 6 4 0 3 4 3 1 0 3 8 3 1 7 8 6 4 5 3 6 4 4 5 2 3 1 9 7 6 3 4\n",
            " 6 5 6 8 4 0 3 0 4 3 9 6 0 0 4 3 9 4 1 0 1 7 2 0 8 1 8 9 6 8 7 1 1 3 2 1 8\n",
            " 0 2 4 3 5 3 6 8 2 3 6 5 6 2 6 2 5 6 1 0 1 6 2 8 8 2 0 2 8 8 1 0 2 4 3 3 4\n",
            " 2 7 8 7 4 8 3 6 9 9 3 7 6 7 6 0 4 3 7 8 9 6 1 4 5 7 0 0 4 2 5 9 1 0 7 0 4\n",
            " 3 5 1 0 6 9 6 4 8 9 6 1 6 2 5 8 3 3 0 6 8 9 0 9 2 7 6 2 5 2 4 4 0 5 2 7 0\n",
            " 4 2 6 9 3 2 1 2 5 5 1 7 8 5 1 8 2 1 7 3 6 6 2 2 9 6 0 6 5 0 0 4 7 9 4 6 0\n",
            " 4 1 9 8 3 9 8 2 2 6 0 8 9 3 9 0 7 8 4 8 4 4 4 1 5 6 2 6 1 3 7 3 5 7 2 4 6\n",
            " 4 5 9 4 6 9 1 6 5 1 5 4 0 2 3 6 8 7 8 4 1 0 8 0 9 2 6 1 6 5 0 6 6 2 3 4 4\n",
            " 3 4 9 9 2 9 2 3 3 1 7 1 9 1 5 1 1 4 7 2 9 0 4 1 8 2 8 2 0 2 2 2 8 6 0 4 9\n",
            " 8 1 2 6 8 4 4 4 0 7 0 7 6 2 1 8 7 9 9 9 4 4 0 7 7 3 1 3 3 8 0 4 4 1 9 2 4\n",
            " 1 1 2 1 9 9 7 3 9 1 7 8 8 6 2 5 5 1 1 8 8 8 7 8 1 3 5 0 7 2 7 4 0 2 2 8 8\n",
            " 3 6 8 1 9 9 8 7 1 9 3 9 3 4 3 9 4 9 9 1 8 8 3 0 9 5 0 8 2 7 5 4 5 1 3 1 6\n",
            " 7 0 8 4 6 6 4 4 8 8 4 9 4 9 1 9 0 9 9 9 4 3 6 0 3 8 5 4 7 3 9 2 6 6 3 6 0\n",
            " 8 7 6 4 8 5 5 9 3 8 3 0 7 2 4 3 9 3 7 2 4 5 1 5 4 6 3 1 4 1 7 8 5 7 6 9 0\n",
            " 8 2 4 9 3 9 1 0 5 9 6 7 2 7 1 5 7 4 0 6 0 6 8 9 9 1 7 1 7 3 7 5 4 7 3 4 0\n",
            " 1] [1 8 3 4 5 0 9 7 6 3 4 4 8 6 0 4 0 5 7 3 5 5 0 7 5 1 8 8 9 6 4 7 5 1 4 2 3\n",
            " 3 5 3 7 6 4 6 3 2 0 2 4 0 4 8 5 3 1 6 2 6 4 1 6 8 4 9 5 6 8 4 1 9 7 2 8 4\n",
            " 9 4 3 6 4 7 6 6 6 7 8 4 3 3 8 6 9 9 3 9 0 7 8 7 2 0 0 2 5 8 6 2 8 6 5 6 4\n",
            " 9 0 7 9 0 9 3 7 1 2 9 9 0 0 4 5 1 7 7 9 4 4 5 6 9 6 4 7 7 4 6 5 0 1 2 3 7\n",
            " 8 3 9 8 2 8 6 5 0 9 5 9 8 3 4 7 7 3 2 3 9 8 4 2 1 9 0 3 6 9 8 0 7 5 6 2 7\n",
            " 0 0 6 8 6 6 5 7 2 9 0 6 9 7 3 3 9 3 4 1 2 2 0 1 2 0 4 9 6 0 9 2 4 6 6 9 7\n",
            " 8 7 9 9 8 8 0 9 1 7 4 4 7 7 3 9 3 5 0 2 6 7 6 0 5 1 9 7 5 2 6 7 9 8 6 5 7\n",
            " 5 7 9 3 8 9 2 2 4 6 0 6 8 4 3 9 2 1 9 8 5 6 7 7 4 8 2 4 6 0 9 7 3 1 1 1 0\n",
            " 1 0 5 8 2 3 0 0 1 2 8 2 3 1 3 0 2 9 7 7 9 9 4 6 1 3 0 6 6 0 9 5 5 8 0 7 4\n",
            " 0 2 0 9 3 4 0 9 7 8 6 0 5 7 3 4 3 0 0 3 8 7 3 8 9 2 1 7 5 5 8 1 0 1 4 0 4\n",
            " 0 4 8 2 9 4 3 7 3 1 3 9 7 0 4 2 1 8 3 0 4 6 8 6 2 3 6 7 0 0 2 9 8 4 4 7 9\n",
            " 9 3 4 5 8 7 0 1 1 5 0 0 5 2 2 8 6 5 9 7 6 5 6 1 8 2 9 4 5 0 7 5 2 9 4 0 6\n",
            " 3 5 2 5 4 9 8 6 4 0 3 4 1 1 0 3 8 3 1 7 8 6 4 5 3 6 4 4 9 2 3 1 9 7 6 5 4\n",
            " 6 5 6 8 4 0 3 0 4 3 9 6 0 0 4 3 9 4 1 0 1 7 3 0 5 3 8 9 6 8 7 1 1 3 2 1 8\n",
            " 0 2 9 3 5 3 6 8 2 5 6 5 5 2 6 2 5 6 1 0 1 6 1 8 8 2 0 2 8 8 1 0 3 4 3 3 4\n",
            " 2 7 6 7 4 8 3 2 9 9 3 7 3 7 6 3 9 3 7 5 9 6 8 4 5 9 0 0 4 2 3 9 1 0 7 0 9\n",
            " 3 5 1 0 6 9 6 4 8 9 6 1 6 2 8 8 3 3 0 6 5 9 0 9 2 7 6 0 5 2 4 4 0 8 2 7 0\n",
            " 4 2 6 9 3 2 1 3 5 5 1 9 8 8 1 8 2 1 7 3 6 6 2 3 9 6 0 6 6 0 0 4 7 9 9 6 0\n",
            " 5 1 9 5 8 9 1 2 2 6 0 8 9 8 9 0 7 8 4 8 4 4 4 1 5 2 2 6 1 3 7 3 5 7 2 9 6\n",
            " 4 5 4 4 6 8 1 6 5 1 5 4 0 2 3 6 8 7 8 4 1 0 8 0 9 2 6 1 6 5 0 4 6 2 3 4 4\n",
            " 3 4 9 9 2 9 8 3 3 1 7 1 9 1 5 1 2 4 7 1 9 0 9 1 8 2 8 2 0 2 2 2 3 6 0 4 9\n",
            " 9 1 2 6 8 4 4 4 0 7 0 7 6 2 1 5 7 9 9 9 4 4 0 7 7 8 1 3 3 8 0 4 4 1 9 2 4\n",
            " 1 1 2 1 9 4 7 3 9 1 7 8 8 6 2 5 5 1 1 8 8 8 7 8 1 5 3 0 7 2 2 4 0 2 2 8 8\n",
            " 5 6 8 1 9 8 8 7 1 9 9 4 2 4 3 4 4 9 9 1 8 8 3 0 9 5 0 8 2 7 5 4 5 1 3 1 6\n",
            " 7 0 8 4 6 6 4 8 8 3 4 9 9 9 1 9 0 9 9 9 6 5 6 0 5 8 5 4 7 3 9 2 6 6 3 6 0\n",
            " 8 7 2 4 8 5 9 9 3 8 3 3 7 2 4 3 9 3 7 2 4 5 1 5 4 6 3 1 4 1 7 8 5 7 6 9 0\n",
            " 8 2 4 9 2 9 1 0 5 9 6 7 2 7 1 5 2 9 0 6 0 6 8 4 9 1 7 1 7 3 7 5 4 7 5 4 0\n",
            " 1]\n"
          ]
        },
        {
          "output_type": "execute_result",
          "data": {
            "text/plain": [
              "np.float64(0.857)"
            ]
          },
          "metadata": {},
          "execution_count": 15
        }
      ]
    }
  ]
}